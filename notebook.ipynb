{
 "cells": [
  {
   "cell_type": "markdown",
   "metadata": {},
   "source": [
    "### Создадим Dataloader и подготовим функции для препроцессинга"
   ]
  },
  {
   "cell_type": "code",
   "execution_count": 1,
   "metadata": {},
   "outputs": [],
   "source": [
    "import torch\n",
    "import numpy as np\n",
    "import torchvision\n",
    "from torchvision.models import resnet34\n",
    "from Model import *\n",
    "from IPython import display"
   ]
  },
  {
   "cell_type": "code",
   "execution_count": 2,
   "metadata": {},
   "outputs": [],
   "source": [
    "from torch.utils.data import DataLoader, Dataset\n",
    "from random import randint\n",
    "import os\n",
    "from PIL import Image, ImageDraw\n",
    "import numpy as np\n",
    "from torch.utils.data import Dataset , DataLoader\n",
    "\n",
    "class Data(Dataset):\n",
    "    def __init__(self, file_paths, results, transform = None):\n",
    "        self.paths = file_paths\n",
    "        self.results = results \n",
    "        self.transform = transform\n",
    "        \n",
    "        self.target = []\n",
    "        position = 0\n",
    "        self.imgs = []\n",
    "        for path in self.paths :\n",
    "            files = os.listdir(path)\n",
    "            for file in files : \n",
    "                self.imgs += [path + file]\n",
    "            self.target += [self.results[position]]*len(files)\n",
    "            position += 1\n",
    "        \n",
    "    def __len__(self):\n",
    "        return len(self.target)\n",
    "        \n",
    "    def __getitem__(self, ind):     \n",
    "        img  =  self.imgs[ind] \n",
    "        data = np.array(Image.open(f\"{img}\").convert(\"RGB\"))\n",
    "        \n",
    "        #print(str(position) + \" ended\")\n",
    "               \n",
    "        sample = {'image': np.array(data), 'landmarks': np.array(self.target[ind])}\n",
    "        \n",
    "        if self.transform:\n",
    "            sample = self.transform(sample)\n",
    "        return sample\n",
    "                      \n"
   ]
  },
  {
   "cell_type": "code",
   "execution_count": 3,
   "metadata": {},
   "outputs": [],
   "source": [
    "class Rescale(object):\n",
    "    \"\"\"Rescale the image in a sample to a given size.\n",
    "\n",
    "    Args:\n",
    "        output_size (tuple or int): Desired output size. If tuple, output is\n",
    "            matched to output_size. If int, smaller of image edges is matched\n",
    "            to output_size keeping aspect ratio the same.\n",
    "    \"\"\"\n",
    "\n",
    "    def __init__(self, output_size):\n",
    "        assert isinstance(output_size, (int, tuple))\n",
    "        self.output_size = output_size\n",
    "\n",
    "    def __call__(self, sample):\n",
    "        image, landmarks = sample['image'], sample['landmarks']\n",
    "\n",
    "        h, w = image.shape[:2]\n",
    "        if isinstance(self.output_size, int):\n",
    "            if h > w:\n",
    "                new_h, new_w = self.output_size * h / w, self.output_size\n",
    "            else:\n",
    "                new_h, new_w = self.output_size, self.output_size * w / h\n",
    "        else:\n",
    "            new_h, new_w = self.output_size\n",
    "\n",
    "        new_h, new_w = int(new_h), int(new_w)\n",
    "\n",
    "        img = transform.resize(image, (new_h, new_w))\n",
    "\n",
    "        # h and w are swapped for landmarks because for images,\n",
    "        # x and y axes are axis 1 and 0 respectively\n",
    "        \n",
    "\n",
    "        return {'image': img, 'landmarks': landmarks}\n",
    "\n",
    "\n",
    "class RandomCrop(object):\n",
    "    \"\"\"Crop randomly the image in a sample.\n",
    "\n",
    "    Args:\n",
    "        output_size (tuple or int): Desired output size. If int, square crop\n",
    "            is made.\n",
    "    \"\"\"\n",
    "\n",
    "    def __init__(self, output_size):\n",
    "        assert isinstance(output_size, (int, tuple))\n",
    "        if isinstance(output_size, int):\n",
    "            self.output_size = (output_size, output_size)\n",
    "        else:\n",
    "            assert len(output_size) == 2\n",
    "            self.output_size = output_size\n",
    "\n",
    "    def __call__(self, sample):\n",
    "        image, landmarks = sample['image'], sample['landmarks']\n",
    "\n",
    "        h, w = image.shape[:2]\n",
    "        new_h, new_w = self.output_size\n",
    "\n",
    "        top = np.random.randint(0, h - new_h)\n",
    "        left = np.random.randint(0, w - new_w)\n",
    "\n",
    "        image = image[top: top + new_h,\n",
    "                      left: left + new_w]\n",
    "\n",
    "        \n",
    "\n",
    "        return {'image': image, 'landmarks': landmarks}\n",
    "\n",
    "\n",
    "class ToTensor(object):\n",
    "    \"\"\"Convert ndarrays in sample to Tensors.\"\"\"\n",
    "\n",
    "    def __call__(self, sample):\n",
    "        image, landmarks = sample['image'], sample['landmarks']\n",
    "\n",
    "        # swap color axis because\n",
    "        # numpy image: H x W x C\n",
    "        # torch image: C X H X W\n",
    "        image = image.transpose((2, 0, 1))\n",
    "        return {'image': torch.from_numpy(image),\n",
    "                'landmarks': torch.from_numpy(landmarks)}"
   ]
  },
  {
   "cell_type": "code",
   "execution_count": 4,
   "metadata": {},
   "outputs": [],
   "source": [
    "from torchvision import transforms\n",
    "from skimage import  transform\n",
    "scale = Rescale(256)\n",
    "crop = RandomCrop(128)\n",
    "composed = transforms.Compose([Rescale(700),\n",
    "                               RandomCrop(512),\n",
    "                               ToTensor()])"
   ]
  },
  {
   "cell_type": "markdown",
   "metadata": {},
   "source": [
    "### Загрузим тренировочные данные"
   ]
  },
  {
   "cell_type": "code",
   "execution_count": 5,
   "metadata": {},
   "outputs": [],
   "source": [
    "transformed_dataset = Data([\"Datasets/train/Nazi/\",\"Datasets/train/Tinkoff/\", \"Datasets/train/Normal/\"], [[1., 0.], [0., 1.], [0., 0.]],\n",
    "                                           transform = composed)\n",
    "dataloader = DataLoader(transformed_dataset, batch_size=4,\n",
    "                        shuffle=True, num_workers=4)\n",
    "\n",
    "ValidDataset = Data([\"Datasets/validation/Nazi/\",\"Datasets/validation/Tinkoff/\", \"Datasets/validation/Normal/\"], [[1., 0.], [0., 1.], [0., 0.]],\n",
    "                                           transform = composed)\n",
    "dataValidLoader = DataLoader(ValidDataset, shuffle=True, num_workers=4, batch_size=4)"
   ]
  },
  {
   "cell_type": "markdown",
   "metadata": {},
   "source": [
    "### Будем обучать на видеокарте"
   ]
  },
  {
   "cell_type": "code",
   "execution_count": 6,
   "metadata": {},
   "outputs": [
    {
     "name": "stdout",
     "output_type": "stream",
     "text": [
      "cuda:0\n"
     ]
    }
   ],
   "source": [
    "device = torch.device(\"cuda:0\" if torch.cuda.is_available() else \"cpu\")\n",
    "print(device)"
   ]
  },
  {
   "cell_type": "markdown",
   "metadata": {},
   "source": [
    "### Загружаем модель"
   ]
  },
  {
   "cell_type": "code",
   "execution_count": 7,
   "metadata": {},
   "outputs": [],
   "source": [
    "from Model import PulseContentModel\n",
    "from torchvision.models import resnet34\n",
    "model = PulseContentModel().float()\n",
    "model.to(device)\n",
    "optimizer = torch.optim.Adagrad(model.parameters())\n"
   ]
  },
  {
   "cell_type": "markdown",
   "metadata": {},
   "source": [
    "### Создаем папку для графиков, создаем ыункцию для отрисовки графиков"
   ]
  },
  {
   "cell_type": "code",
   "execution_count": 9,
   "metadata": {},
   "outputs": [],
   "source": [
    "!rm -r graphs"
   ]
  },
  {
   "cell_type": "code",
   "execution_count": 10,
   "metadata": {},
   "outputs": [],
   "source": [
    "!mkdir graphs"
   ]
  },
  {
   "cell_type": "code",
   "execution_count": 11,
   "metadata": {},
   "outputs": [
    {
     "name": "stdout",
     "output_type": "stream",
     "text": [
      "Datasets\t\t  __pycache__\t  pymp-6xswyq34  pymp-uv28os_4\r\n",
      "Model.py\t\t  graphs\t  pymp-9zhdn6il  trainOnlyNaziGraphs\r\n",
      "ModelWeight\t\t  notebook.ipynb  pymp-kb9glwju  utils.py\r\n",
      "NaziClassification.ipynb  pymp-2ntqgg74   pymp-n8pnk_15  weightsTinkoff\r\n",
      "README.md\t\t  pymp-4f3rp4g2   pymp-oveww6uf\r\n"
     ]
    }
   ],
   "source": [
    "!ls"
   ]
  },
  {
   "cell_type": "code",
   "execution_count": 8,
   "metadata": {},
   "outputs": [],
   "source": [
    "def plotGraphs(AverageTrueN, AveragePredN, AverageTrueT, AveragePredT, epoch, flag , name = 'graphs', needSave = False):\n",
    "    maxT = max(AveragePredT)\n",
    "    maxN = max(AveragePredN)\n",
    "    minT = min(AveragePredT)\n",
    "    minN = min(AveragePredN)\n",
    "    precisionN, recallN, thresholdsN = precision_recall_curve( AverageTrueN.astype(int), AveragePredN )\n",
    "    precisionT, recallT, thresholdsT = precision_recall_curve( AverageTrueT.astype(int), AveragePredT )\n",
    "    \n",
    "    actN = np.linspace(0,1,1000)[:-1]\n",
    "    actT = np.linspace(0,1,1000)[:-1]\n",
    "    accuracyN = [sum((AveragePredN > act_i).astype(int)  == AverageTrueN)/len(AverageTrueN) for act_i in actN]\n",
    "    accuracyT = [sum((AveragePredT > act_i).astype(int)  == AverageTrueT)/len(AverageTrueN) for act_i in actT]\n",
    "    \n",
    "    f1, (ax1, ax2) = plt.subplots(1, 2, sharey=True)\n",
    "    ax1.plot(recallN, precisionN)\n",
    "    ax1.set_title('Nazi')\n",
    "    ax1.set_ylabel('precision')\n",
    "    ax1.set_xlabel('recall')\n",
    "    \n",
    "    ax2.plot(recallT, precisionT)\n",
    "    ax2.set_title('Tinkoff')\n",
    "    ax2.set_ylabel('precision')\n",
    "    ax2.set_xlabel('recall')\n",
    "\n",
    "    f1.set_size_inches(8, 5)\n",
    "    if needSave :\n",
    "        f1.savefig(name + \"/epoch_\" + str(epoch) + flag + \" PR\")\n",
    "    \n",
    "    f2, (ax3, ax4) = plt.subplots(1, 2, sharey=True)\n",
    "\n",
    "    ax3.plot(actN,accuracyN)\n",
    "    ax3.set_title('Accuracy N')\n",
    "    ax3.set_xlabel('activation')\n",
    "    ax4.set_ylabel('accuracy')\n",
    "    \n",
    "    ax4.plot(actT,accuracyT)\n",
    "    ax4.set_title('Accuracy T')\n",
    "    ax4.set_xlabel('activation')\n",
    "    ax4.set_ylabel('accuracy')\n",
    "    f2.set_size_inches(8, 5)\n",
    "    if needSave:\n",
    "        f2.savefig(name + \"/epoch_\" + str(epoch) + flag + \" Accuracy\")\n",
    "    plt.show()\n",
    "\n",
    "    "
   ]
  },
  {
   "cell_type": "markdown",
   "metadata": {},
   "source": [
    "### Обучаем"
   ]
  },
  {
   "cell_type": "code",
   "execution_count": 32,
   "metadata": {},
   "outputs": [
    {
     "name": "stdout",
     "output_type": "stream",
     "text": [
      "epoch : 60 finished Average Loss : 0.08827881893869173\n"
     ]
    },
    {
     "data": {
      "image/png": "[encoded data removed]",
      "text/plain": [
       "<Figure size 576x360 with 2 Axes>"
      ]
     },
     "metadata": {
      "needs_background": "light"
     },
     "output_type": "display_data"
    },
    {
     "data": {
      "image/png": "[encoded data removed]",
      "text/plain": [
       "<Figure size 576x360 with 2 Axes>"
      ]
     },
     "metadata": {
      "needs_background": "light"
     },
     "output_type": "display_data"
    },
    {
     "name": "stdout",
     "output_type": "stream",
     "text": [
      "for validation\n"
     ]
    },
    {
     "data": {
      "image/png": "[encoded data removed]",
      "text/plain": [
       "<Figure size 576x360 with 2 Axes>"
      ]
     },
     "metadata": {
      "needs_background": "light"
     },
     "output_type": "display_data"
    },
    {
     "data": {
      "image/png": "[encoded data removed]",
      "text/plain": [
       "<Figure size 576x360 with 2 Axes>"
      ]
     },
     "metadata": {
      "needs_background": "light"
     },
     "output_type": "display_data"
    },
    {
     "data": {
      "image/png": "[encoded data removed]",
      "text/plain": [
       "<Figure size 432x288 with 1 Axes>"
      ]
     },
     "metadata": {
      "needs_background": "light"
     },
     "output_type": "display_data"
    }
   ],
   "source": [
    "#from torch.nn.functional import binary_cross_entropy as entropy\n",
    "#from torch.nn import BCEWithLogitsLoss as entropy\n",
    "import torch.nn.functional as F\n",
    "from torch.nn.functional import cross_entropy \n",
    "import scikitplot as skplt\n",
    "from sklearn.metrics import precision_recall_curve\n",
    "from matplotlib import pyplot as plt\n",
    "\n",
    "import warnings\n",
    "import torch.nn as nn\n",
    "lossFuct = nn.BCEWithLogitsLoss()\n",
    "warnings.filterwarnings('ignore')\n",
    "\n",
    "datalen = transformed_dataset.__len__()\n",
    "\n",
    "epochs = 60\n",
    "LossArray = []\n",
    "\n",
    "for epoch_index in range(epochs):\n",
    "    AverageLoss = 0\n",
    "    step = 0\n",
    "    \n",
    "    \n",
    "    AverageTrueN = np.array([])\n",
    "    AveragePredN = np.array([])\n",
    "    AverageTrueT = np.array([])\n",
    "    AveragePredT = np.array([])\n",
    "    for batch in dataloader:\n",
    "        \n",
    "        optimizer.zero_grad()\n",
    "        predN, predT = model.forward(batch['image'].to(device).float())\n",
    "        predN = predN.to(device)\n",
    "        predT = predT.to(device)\n",
    "        loss = lossFuct(predN[:,0].float(), batch['landmarks'].to(device).float()[:,0]) + lossFuct(predT[:,0].float(), batch['landmarks'].to(device).float()[:,1])\n",
    "        \n",
    "        \n",
    "\n",
    "        \n",
    "        loss.backward()\n",
    "        optimizer.step()     \n",
    "        \n",
    "        \n",
    "        predN = F.sigmoid(predN)\n",
    "        predT = F.sigmoid(predT)\n",
    "        AverageLoss += loss\n",
    "        step += 1\n",
    "        \n",
    "        \n",
    "        \n",
    "        AveragePredN = np.append(AveragePredN, predN.cpu().detach().numpy())\n",
    "        AverageTrueN = np.append(AverageTrueN, batch['landmarks'].cpu().int().numpy()[:,0])\n",
    "        AveragePredT = np.append(AveragePredT, predT.cpu().detach().numpy())\n",
    "        AverageTrueT = np.append(AverageTrueT, batch['landmarks'].cpu().int().numpy()[:,1])\n",
    "        \n",
    "        # для дебага\n",
    "        #if step == 4:\n",
    "        #    break\n",
    "        \n",
    "    \n",
    "    \n",
    "    stepVal = 0\n",
    "    ValpredN = np.array([])\n",
    "    ValtrueN = np.array([])\n",
    "    ValpredT = np.array([])\n",
    "    ValtrueT = np.array([])\n",
    "    for batch in dataValidLoader:\n",
    "        \n",
    "        stepVal += 1\n",
    "        predN, predT = model.forward(batch['image'].to(device).float())\n",
    "        predN = predN.to(device)\n",
    "        predT = predT.to(device)\n",
    "        predN = F.sigmoid(predN)\n",
    "        predT = F.sigmoid(predT)\n",
    "        \n",
    "        \n",
    "        ValpredN = np.append(ValpredN, predN.cpu().detach().numpy())\n",
    "        ValtrueN = np.append(ValtrueN, batch['landmarks'].cpu().int().numpy()[:,0])\n",
    "        ValpredT = np.append(ValpredT, predT.cpu().detach().numpy())\n",
    "        ValtrueT = np.append(ValtrueT, batch['landmarks'].cpu().int().numpy()[:,1])\n",
    "        \n",
    "        # для дебага\n",
    "        #№if stepVal == 4:\n",
    "        #       break\n",
    "        \n",
    "    display.clear_output()\n",
    "    print(\"epoch : \" + str(epoch_index + 1) + \" finished\" + \" Average Loss : \" + str(AverageLoss.item()/step))\n",
    "    LossArray += [min(AverageLoss.item()/(2*step), 1)]\n",
    "    plotGraphs(AverageTrueN, AveragePredN, AverageTrueT, AveragePredT, epoch_index, \" Train\")\n",
    "    print(\"for validation\")\n",
    "    plotGraphs(ValtrueN, ValpredN, ValtrueT, ValpredT, epoch_index, \" Test\")\n",
    "    f1,ax1 = plt.subplots()\n",
    "    ax1.plot(range(1, len(LossArray) + 1), LossArray) \n",
    "    ax1.set_title('Loss')\n",
    "    ax1.set_ylabel('loss')\n",
    "    ax1.set_xlabel('epoch')\n",
    "    plt.show()\n",
    "\n",
    "    \n"
   ]
  },
  {
   "cell_type": "code",
   "execution_count": null,
   "metadata": {},
   "outputs": [],
   "source": [
    "f1,ax1 = plt.subplots()\n",
    "ax1.plot(range(1, len(LossArray) + 1), LossArray) \n",
    "ax1.set_title('Loss')\n",
    "ax1.set_ylabel('loss')\n",
    "ax1.set_xlabel('epoch')\n",
    "plt.show()"
   ]
  },
  {
   "cell_type": "markdown",
   "metadata": {},
   "source": [
    "### Сохраняем/загружаем  веса модели"
   ]
  },
  {
   "cell_type": "code",
   "execution_count": 33,
   "metadata": {},
   "outputs": [],
   "source": [
    "#torch.save(model.state_dict(), 'ModelWeight')"
   ]
  },
  {
   "cell_type": "code",
   "execution_count": 9,
   "metadata": {},
   "outputs": [
    {
     "data": {
      "text/plain": [
       "<All keys matched successfully>"
      ]
     },
     "execution_count": 9,
     "metadata": {},
     "output_type": "execute_result"
    }
   ],
   "source": [
    "#model.load_state_dict(torch.load('ModelWeight'))\n"
   ]
  },
  {
   "cell_type": "code",
   "execution_count": null,
   "metadata": {},
   "outputs": [],
   "source": [
    "!ls Datasets"
   ]
  },
  {
   "cell_type": "markdown",
   "metadata": {},
   "source": [
    "### Проверим модель "
   ]
  },
  {
   "cell_type": "code",
   "execution_count": 10,
   "metadata": {},
   "outputs": [
    {
     "name": "stderr",
     "output_type": "stream",
     "text": [
      "/home/Katerina5649/Pulse/lib/python3.6/site-packages/torch/nn/functional.py:1569: UserWarning: nn.functional.sigmoid is deprecated. Use torch.sigmoid instead.\n",
      "  warnings.warn(\"nn.functional.sigmoid is deprecated. Use torch.sigmoid instead.\")\n",
      "/home/Katerina5649/Pulse/lib/python3.6/site-packages/PIL/Image.py:960: UserWarning: Palette images with Transparency expressed in bytes should be converted to RGBA images\n",
      "  \"Palette images with Transparency expressed in bytes should be \"\n"
     ]
    },
    {
     "data": {
      "image/png": "[encoded data removed]",
      "text/plain": [
       "<Figure size 432x288 with 2 Axes>"
      ]
     },
     "metadata": {
      "needs_background": "light"
     },
     "output_type": "display_data"
    },
    {
     "name": "stdout",
     "output_type": "stream",
     "text": [
      "Accuracy 0.916030534351145\n"
     ]
    }
   ],
   "source": [
    "import torch.nn.functional as F\n",
    "from torch.nn.functional import cross_entropy \n",
    "import scikitplot as skplt\n",
    "from sklearn.metrics import precision_recall_curve\n",
    "from matplotlib import pyplot as plt\n",
    "\n",
    "transformed_TestDataset = Data([\"Datasets/test/Tinkoff/\", \"Datasets/test/Normal/\", \"Datasets/test/Nazi/\"], [[0., 1.], [0., 0.], [1., 0.]],\n",
    "                                           transform = composed)\n",
    "dataTestLoader = DataLoader(transformed_TestDataset, batch_size=1,\n",
    "                        shuffle=True)\n",
    "\n",
    "\n",
    "AveragePredT = np.array([])\n",
    "AverageTrueT = np.array([])\n",
    "AveragePredN = np.array([])\n",
    "AverageTrueN = np.array([])\n",
    "\n",
    "for batch in dataValidLoader:\n",
    "    predN, predT = model.forward(batch['image'].to(device).float())\n",
    "    predN = predN.to(device)\n",
    "    predT = predT.to(device)\n",
    "    predN = F.sigmoid(predN)\n",
    "    predT = F.sigmoid(predT)\n",
    "    #print(batch['landmarks'].cpu().int().numpy()[:,1])\n",
    "    AveragePredT = np.append(AveragePredT, predT.cpu().detach().numpy())\n",
    "    AverageTrueT = np.append(AverageTrueT, batch['landmarks'].cpu().int().numpy()[:,1])\n",
    "    \n",
    "    AveragePredN = np.append(AveragePredN, predN.cpu().detach().numpy())\n",
    "    AverageTrueN = np.append(AverageTrueN, batch['landmarks'].cpu().int().numpy()[:,0])\n",
    "    \n",
    "actT = np.linspace(0,1,1000)[:-1]\n",
    "accuracyT = [sum((AveragePredT > act_i).astype(int)  == AverageTrueT)/len(AverageTrueT) for act_i in actT]\n",
    "\n",
    "actN = np.linspace(0,1,1000)[:-1]\n",
    "accuracyN = [sum((AveragePredN > act_i).astype(int)  == AverageTrueN)/len(AverageTrueN) for act_i in actN]\n",
    "    \n",
    "    \n",
    "f1,(ax1, ax2) = plt.subplots(1, 2, sharey=True)\n",
    "ax1.plot(actT, accuracyT) \n",
    "ax1.set_title('Accuracy for logo Tinkoff')\n",
    "ax1.set_ylabel('Accuracy')\n",
    "ax1.set_xlabel('activation')\n",
    "\n",
    "ax2.plot(actN, accuracyN) \n",
    "ax2.set_title('Accuracy for logo Nazi')\n",
    "ax2.set_ylabel('Accuracy')\n",
    "ax2.set_xlabel('activation')\n",
    "plt.show()\n",
    "print(\"Accuracy \" + str(max(accuracyN)))\n",
    "    \n"
   ]
  },
  {
   "cell_type": "markdown",
   "metadata": {},
   "source": [
    "## Тест для логотипа"
   ]
  },
  {
   "cell_type": "code",
   "execution_count": 15,
   "metadata": {},
   "outputs": [
    {
     "name": "stdout",
     "output_type": "stream",
     "text": [
      "Datasets/test/Tinkoff/images (3).jpeg\n",
      "Datasets/test/Tinkoff/lplplplp.jpeg\n",
      "Datasets/test/Normal/download (13).jpeg\n",
      "Datasets/test/Normal/joj[.jpeg\n",
      "Datasets/test/Normal/eqf.jpeg\n",
      "Datasets/test/Normal/images (1).jpeg\n",
      "Datasets/test/Normal/download (14).jpeg\n",
      "Datasets/test/Nazi/download (1).jpeg\n",
      "accuracy = 0.9175257731958762\n"
     ]
    }
   ],
   "source": [
    "## найдем на каких картинках ошибается\n",
    "act = actT[np.argmax(accuracyT)]\n",
    "\n",
    "step = 0\n",
    "wrong = 0\n",
    "for batch in dataTestLoader:  \n",
    "    predN, predT = model.forward(batch['image'].to(device).float())\n",
    "    predT = predT.to(device)\n",
    "    predT = F.sigmoid(predT)[0]\n",
    "    if ((predT > act).cpu().int().item() != batch['landmarks'].cpu().int().numpy()[:,1][0]):\n",
    "        img = Image.open(f\"{transformed_TestDataset.imgs[step]}\").convert(\"RGB\")\n",
    "        img.show()\n",
    "        print(transformed_TestDataset.imgs[step])\n",
    "        wrong += 1\n",
    "    step += 1\n",
    "        \n",
    "\n",
    "print(\"accuracy = \" + str((step - wrong)/step))\n",
    "    \n"
   ]
  },
  {
   "cell_type": "markdown",
   "metadata": {},
   "source": [
    "## Тест для свастики"
   ]
  },
  {
   "cell_type": "code",
   "execution_count": 16,
   "metadata": {},
   "outputs": [
    {
     "name": "stdout",
     "output_type": "stream",
     "text": [
      "Datasets/test/Tinkoff/download (1).png\n",
      "Datasets/test/Tinkoff/okoko.png\n",
      "Datasets/test/Tinkoff/images (3).png\n",
      "Datasets/test/Tinkoff/images (7).jpeg\n",
      "Datasets/test/Tinkoff/images.jpeg\n",
      "Datasets/test/Normal/cxv.jpeg\n",
      "Datasets/test/Normal/joj[.jpeg\n",
      "Datasets/test/Normal/images (2).jpeg\n",
      "Datasets/test/Normal/download (12).jpeg\n",
      "Datasets/test/Normal/eqf.jpeg\n",
      "Datasets/test/Normal/uj.jpeg\n",
      "Datasets/test/Normal/download (2).jpeg\n",
      "Datasets/test/Normal/download (15).jpeg\n",
      "Datasets/test/Nazi/images (3).jpeg\n",
      "Datasets/test/Nazi/download.png\n",
      "accuracy = 0.845360824742268\n"
     ]
    }
   ],
   "source": [
    "## найдем на каких картинках ошибается\n",
    "act = actN[np.argmax(accuracyN)]\n",
    "\n",
    "step = 0\n",
    "wrong = 0\n",
    "for batch in dataTestLoader:\n",
    "    predN, predT = model.forward(batch['image'].to(device).float())\n",
    "    predN = predN.to(device)\n",
    "    predN = F.sigmoid(predN)[0]\n",
    "    if ((predN > act).cpu().int().item() != batch['landmarks'].cpu().int().numpy()[:,0][0]):\n",
    "        img = Image.open(f\"{transformed_TestDataset.imgs[step]}\").convert(\"RGB\")\n",
    "        img.show()\n",
    "        print(transformed_TestDataset.imgs[step])\n",
    "        wrong += 1\n",
    "    step += 1\n",
    "        \n",
    "\n",
    "print(\"accuracy = \" + str((step - wrong)/step))"
   ]
  },
  {
   "cell_type": "code",
   "execution_count": null,
   "metadata": {},
   "outputs": [],
   "source": []
  }
 ],
 "metadata": {
  "kernelspec": {
   "display_name": "Python 3",
   "language": "python",
   "name": "python3"
  },
  "language_info": {
   "codemirror_mode": {
    "name": "ipython",
    "version": 3
   },
   "file_extension": ".py",
   "mimetype": "text/x-python",
   "name": "python",
   "nbconvert_exporter": "python",
   "pygments_lexer": "ipython3",
   "version": "3.6.9"
  }
 },
 "nbformat": 4,
 "nbformat_minor": 2
}
